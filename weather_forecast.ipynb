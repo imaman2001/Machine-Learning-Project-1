{
  "nbformat": 4,
  "nbformat_minor": 0,
  "metadata": {
    "colab": {
      "provenance": [],
      "mount_file_id": "1zju8xxTrmWV93rMKFIWeJ_FaVUtGgipi",
      "authorship_tag": "ABX9TyMCdI63/NxaCJSi6hHZ0pvV",
      "include_colab_link": true
    },
    "kernelspec": {
      "name": "python3",
      "display_name": "Python 3"
    },
    "language_info": {
      "name": "python"
    }
  },
  "cells": [
    {
      "cell_type": "markdown",
      "metadata": {
        "id": "view-in-github",
        "colab_type": "text"
      },
      "source": [
        "<a href=\"https://colab.research.google.com/github/imaman2001/Machine-Learning-Project-1/blob/main/weather_forecast.ipynb\" target=\"_parent\"><img src=\"https://colab.research.google.com/assets/colab-badge.svg\" alt=\"Open In Colab\"/></a>"
      ]
    },
    {
      "cell_type": "code",
      "execution_count": 2,
      "metadata": {
        "id": "YWMoR8KQrKh_"
      },
      "outputs": [],
      "source": [
        "import requests\n",
        "import pandas as pd\n",
        "import numpy as np\n",
        "from sklearn.model_selection import train_test_split\n",
        "from sklearn.preprocessing import LabelEncoder\n",
        "from sklearn.ensemble import RandomForestClassifier, RandomForestRegressor\n",
        "from sklearn.metrics import mean_squared_error\n",
        "from datetime import datetime, timedelta\n",
        "import pytz"
      ]
    },
    {
      "cell_type": "code",
      "source": [
        "API_KEY = \"24e66b0a6976f43a7ff033dbc1014397\"\n",
        "Base_URL = \"https://api.openweathermap.org/data/2.5/\""
      ],
      "metadata": {
        "id": "JhluMW6wsAk3"
      },
      "execution_count": 2,
      "outputs": []
    },
    {
      "cell_type": "markdown",
      "source": [
        "Fetch current weather **data**"
      ],
      "metadata": {
        "id": "QIGuQbtasKwe"
      }
    },
    {
      "cell_type": "code",
      "source": [
        "def get_current_weather(city):\n",
        "  url = f\"{Base_URL}weather?q={city}&appid={API_KEY}&units=metric\"\n",
        "  response = requests.get(url)\n",
        "  data = response.json()\n",
        "  return {\n",
        "      'city': data['name'],\n",
        "      'current_temp': round(data['main']['temp']),\n",
        "      'feels_like': round(data['main']['feels_like']),6\n",
        "      'temp_min': round(data['main']['temp_min']),\n",
        "      'temp_max': round(data['main']['temp_max']),\n",
        "      'humidity': round(data['main']['humidity']),\n",
        "      'description': data['weather'][0]['description'],\n",
        "      'country': data['sys']['country'],\n",
        "      'wind_gust_dir' : data['wind']['deg'],\n",
        "      'pressure': data['main']['pressure'],\n",
        "      'Wind_Gust_Speed': data['wind']['speed']\n",
        "  }"
      ],
      "metadata": {
        "id": "By4G2ZkYt0g7"
      },
      "execution_count": 18,
      "outputs": []
    },
    {
      "cell_type": "markdown",
      "source": [
        "Read historical **data**"
      ],
      "metadata": {
        "id": "JPjKJZ_bvFdp"
      }
    },
    {
      "cell_type": "code",
      "source": [
        "def read_historical_data(filename):\n",
        "  df = pd.read_csv(filename)\n",
        "  df = df.dropna()  #remove row with missing values\n",
        "  df = df.drop_duplicates()\n",
        "  # print(\"Columns in historical data:\", df.columns) # Add this line to display columns\n",
        "  return df"
      ],
      "metadata": {
        "id": "AnGZELpCvIlL"
      },
      "execution_count": 19,
      "outputs": []
    },
    {
      "cell_type": "markdown",
      "source": [
        "**Prepare data for training**"
      ],
      "metadata": {
        "id": "zunXjQZBv1Xx"
      }
    },
    {
      "cell_type": "code",
      "source": [
        "def prepare_data(data):\n",
        "  le = LabelEncoder() # create a encoder instance\n",
        "\n",
        "  data['WindGustDir'] = le.fit_transform(data['WindGustDir'])\n",
        "  data['RainTomorrow'] = le.fit_transform(data['RainTomorrow'])\n",
        "\n",
        "  #define feature variable and target variable\n",
        "  X = data[['MinTemp', 'MaxTemp','WindGustDir', 'WindGustSpeed', 'Humidity', 'Pressure', 'Temp']]\n",
        "  Y = data['RainTomorrow']  #target variable\n",
        "\n",
        "  return X , Y, le"
      ],
      "metadata": {
        "id": "Bd7snGmuv5im"
      },
      "execution_count": 20,
      "outputs": []
    },
    {
      "cell_type": "markdown",
      "source": [
        "Train rain prediction **model**"
      ],
      "metadata": {
        "id": "yELGBvlrzb1P"
      }
    },
    {
      "cell_type": "code",
      "source": [
        "#0.2 --> 20% testing, 80% training\n",
        "def train_rain_model(X,Y):\n",
        "  X_train, X_test, Y_train, Y_test = train_test_split(X, Y, test_size=0.2, random_state=42)\n",
        "  model = RandomForestClassifier(n_estimators=100, random_state=42)\n",
        "  model.fit(X_train, Y_train)   #train the model\n",
        "\n",
        "  Y_pred = model.predict(X_test)      #make prediction on test set\n",
        "\n",
        "  print(\"Mean squared Error for Rain Model\")\n",
        "\n",
        "  print(mean_squared_error(Y_test, Y_pred))\n",
        "\n",
        "  return model\n"
      ],
      "metadata": {
        "id": "1zkmU6tqzgM2"
      },
      "execution_count": 21,
      "outputs": []
    },
    {
      "cell_type": "markdown",
      "source": [
        "**Prepare regression data**  --> it help to predict continuous values"
      ],
      "metadata": {
        "id": "UpBj1Wyk1m6T"
      }
    },
    {
      "cell_type": "code",
      "source": [
        "def prepare_regression_data(data, feature):\n",
        "  X, Y = [], []  #initilize list for feature and target values\n",
        "\n",
        "  for i in range(len(data) -1):\n",
        "    X.append(data[feature].iloc[i])\n",
        "\n",
        "    Y.append(data[feature].iloc[i+1])\n",
        "\n",
        "  X = np.array(X).reshape(-1, 1)   #2D array\n",
        "  Y = np.array(Y)\n",
        "\n",
        "  return X, Y\n"
      ],
      "metadata": {
        "id": "0H6CKvf411h-"
      },
      "execution_count": 22,
      "outputs": []
    },
    {
      "cell_type": "markdown",
      "source": [
        "**Train regression model**"
      ],
      "metadata": {
        "id": "if39A93c3DqD"
      }
    },
    {
      "cell_type": "code",
      "source": [
        "def train_regression_model(x,y):\n",
        "  model = RandomForestRegressor(n_estimators=100 , random_state=42)\n",
        "  model.fit(x,y)\n",
        "  return model"
      ],
      "metadata": {
        "id": "JfwPN05y3IzR"
      },
      "execution_count": 23,
      "outputs": []
    },
    {
      "cell_type": "markdown",
      "source": [
        "**Predict Future**"
      ],
      "metadata": {
        "id": "eYJmfwN-3bQq"
      }
    },
    {
      "cell_type": "code",
      "source": [
        "def predict_future(model, current_value):\n",
        "  predictions = [current_value]\n",
        "\n",
        "  for i in range(5):\n",
        "    next_value = model.predict(np.array([[predictions[-1]]]))\n",
        "\n",
        "    predictions.append(next_value[0])\n",
        "  return predictions[1:]"
      ],
      "metadata": {
        "id": "L4s66rs6thkG"
      },
      "execution_count": 24,
      "outputs": []
    },
    {
      "cell_type": "markdown",
      "source": [
        "** weather view**"
      ],
      "metadata": {
        "id": "hTm-31qdt7tD"
      }
    },
    {
      "cell_type": "code",
      "source": [
        "from google.colab import drive\n",
        "drive.mount('/content/drive')"
      ],
      "metadata": {
        "colab": {
          "base_uri": "https://localhost:8080/"
        },
        "id": "4oE1oaJ3IR3t",
        "outputId": "00db5d33-b857-412e-c810-76165e4a3f0a"
      },
      "execution_count": 25,
      "outputs": [
        {
          "output_type": "stream",
          "name": "stdout",
          "text": [
            "Drive already mounted at /content/drive; to attempt to forcibly remount, call drive.mount(\"/content/drive\", force_remount=True).\n"
          ]
        }
      ]
    },
    {
      "cell_type": "code",
      "source": [
        "def weather_view():\n",
        "  city = input(\"enter city name : \")\n",
        "  current_weather = get_current_weather(city)\n",
        "\n",
        "  historical_data = read_historical_data('/content/weather.csv')\n",
        "\n",
        "  #prepare and train the rain prediction model\n",
        "  X, Y, le = prepare_data(historical_data)\n",
        "\n",
        "  rain_model = train_rain_model(X, Y)\n",
        "\n",
        "  #map wind direction to campus points\n",
        "  wind_deg = current_weather['wind_gust_dir'] % 360\n",
        "  compass_points = [\n",
        "      (\"N\", 0, 11.25), (\"NNE\", 11.25, 33.75), (\"NE\", 33.75, 56.25),\n",
        "      (\"ENE\", 56.25, 78.75), (\"E\", 78.75, 101.25), (\"ESE\", 101.25, 123.75),\n",
        "      (\"SE\", 123.75, 146.25), (\"SSE\", 146.25, 168.75), (\"S\", 168.75, 191.25),\n",
        "      (\"SSW\", 191.25, 213.75), (\"SW\", 213.75, 236.25), (\"WSW\", 236.25, 258.75),\n",
        "      (\"W\", 258.75, 281.25), (\"WNW\", 281.25, 303.75), (\"NW\", 303.75, 326.25),\n",
        "      (\"NNW\", 326.25, 348.75)\n",
        "  ]\n",
        "  compass_direction = next(point for point, start, end in compass_points if start <= wind_deg < end)\n",
        "\n",
        "  # Encode the compass direction, handling cases where the direction might not be in the training data\n",
        "  compass_direction_encoded = le.transform([compass_direction])[0] if compass_direction in le.classes_ else -1\n",
        "\n",
        "\n",
        "  current_data = {\n",
        "      'MinTemp': current_weather['temp_min'],\n",
        "      'MaxTemp': current_weather['temp_max'],\n",
        "      'WindGustDir': compass_direction_encoded,\n",
        "      'WindGustSpeed': current_weather['Wind_Gust_Speed'],\n",
        "      'Humidity': current_weather['humidity'],\n",
        "      'Pressure': current_weather['pressure'],\n",
        "      'Temp': current_weather['current_temp'],\n",
        "  }\n",
        "\n",
        "  current_df = pd.DataFrame([current_data])\n",
        "\n",
        "  #rain prediction\n",
        "  rain_prediction = rain_model.predict(current_df)[0]\n",
        "\n",
        "  #prepare regression model for temperature and humdity\n",
        "  X_temp, Y_temp = prepare_regression_data(historical_data, 'Temp')\n",
        "\n",
        "  X_hum, Y_hum = prepare_regression_data(historical_data, 'Humidity')\n",
        "\n",
        "  temp_model = train_regression_model(X_temp, Y_temp)\n",
        "\n",
        "  hum_model = train_regression_model(X_hum, Y_hum)\n",
        "\n",
        "\n",
        "  #predict future temperature and humidty\n",
        "  future_temp = predict_future(temp_model, current_weather['temp_min'])\n",
        "\n",
        "  future_humidity = predict_future(hum_model, current_weather['humidity'])\n",
        "\n",
        "  #prepare time for future predictions\n",
        "  timezone = pytz.timezone('Asia/kolkata')\n",
        "  now = datetime.now(timezone)\n",
        "  next_hour = now + timedelta(hours=1)\n",
        "  next_hour = next_hour.replace(minute=0, second=0, microsecond=0)\n",
        "\n",
        "  future_times = [(next_hour + timedelta(hours=i)).strftime(\"%H:00\") for i in range(5)]\n",
        "\n",
        "  #display results\n",
        "\n",
        "  print(f\"city: {city}, {current_weather['country']}\")\n",
        "  print(f\"Wind Gusts : {current_weather['Wind_Gust_Speed']}\")\n",
        "  print(f\"current temperature: {current_weather['current_temp']}\")\n",
        "  print(f\"Feels like: {current_weather['feels_like']}\")\n",
        "  print(f\"Minimum Temperature: {current_weather['temp_min']}°C\")\n",
        "  print(f\"Maximum Temperature: {current_weather['temp_max']}°C\")\n",
        "  print(f\"Humidity: {current_weather['humidity']}%\")\n",
        "  print(f\"Weather Prediction: {current_weather['description']}\")\n",
        "  print(f\"Rain Prediction: {'yes' if rain_prediction else 'No'}\")\n",
        "\n",
        "  print(\"\\n Future Temperature Predictions : \")\n",
        "\n",
        "  for time, temp in zip(future_times, future_temp):\n",
        "    print(f\"{time} : {round(temp, 1)}°C\")\n",
        "\n",
        "  print(\"\\nFuture Humidity Prediction : \")\n",
        "\n",
        "  for time, humidity in zip(future_times, future_humidity):\n",
        "    print(f\"{time} : {round(humidity, 1)}%\")\n",
        "\n"
      ],
      "metadata": {
        "collapsed": true,
        "id": "BMQz2qBbti8r"
      },
      "execution_count": 26,
      "outputs": []
    },
    {
      "cell_type": "markdown",
      "source": [
        "**Running the Final **"
      ],
      "metadata": {
        "id": "FmMiVtdBB-ew"
      }
    },
    {
      "cell_type": "code",
      "source": [
        "weather_view()"
      ],
      "metadata": {
        "colab": {
          "base_uri": "https://localhost:8080/"
        },
        "id": "Vuo47x4iB9a3",
        "outputId": "5ad73585-3e65-48f7-d9ad-ec042f5759d5"
      },
      "execution_count": 27,
      "outputs": [
        {
          "output_type": "stream",
          "name": "stdout",
          "text": [
            "enter city name : delhi\n",
            "Mean squared Error for Rain Model\n",
            "0.1506849315068493\n",
            "city: delhi, IN\n",
            "Wind Gusts : 3.6\n",
            "current temperature: 31\n",
            "Feels like: 38\n",
            "Minimum Temperature: 31°C\n",
            "Maximum Temperature: 31°C\n",
            "Humidity: 74%\n",
            "Weather Prediction: haze\n",
            "Rain Prediction: yes\n",
            "\n",
            " Future Temperature Predictions : \n",
            "11:00 : 31.6°C\n",
            "12:00 : 28.0°C\n",
            "13:00 : 27.8°C\n",
            "14:00 : 25.9°C\n",
            "15:00 : 28.9°C\n",
            "\n",
            "Future Humidity Prediction : \n",
            "11:00 : 44.8%\n",
            "12:00 : 46.2%\n",
            "13:00 : 48.2%\n",
            "14:00 : 53.7%\n",
            "15:00 : 58.1%\n"
          ]
        }
      ]
    }
  ]
}